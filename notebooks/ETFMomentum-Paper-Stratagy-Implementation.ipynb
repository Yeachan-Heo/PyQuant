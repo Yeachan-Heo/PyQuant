{
 "cells": [
  {
   "cell_type": "markdown",
   "metadata": {},
   "source": [
    "# ETF Momentum Stratagies\n",
    "## Paper link\n",
    "https://papers.ssrn.com/sol3/papers.cfm?abstract_id=3468556\n",
    "## summary\n",
    "investing in etf, long-term (2~4 years) momentum is efficient and robust.monthly rebalancing"
   ]
  },
  {
   "cell_type": "code",
   "execution_count": 1,
   "metadata": {},
   "outputs": [],
   "source": [
    "import yfinance as yf\n",
    "import datetime\n",
    "import pandas as pd"
   ]
  },
  {
   "cell_type": "code",
   "execution_count": 2,
   "metadata": {},
   "outputs": [],
   "source": [
    "def generate_link(include_leveraged=False):\n",
    "    link = f\"https://etfdb.com/compare/highest-3-year-returns/\"\n",
    "    if not include_leveraged:\n",
    "        link = link + \"no-leveraged/\"\n",
    "    return link"
   ]
  },
  {
   "cell_type": "code",
   "execution_count": 3,
   "metadata": {},
   "outputs": [],
   "source": [
    "def sub_year(date, y=0):\n",
    "    m, d = 0, 0\n",
    "    date = str(date)[:10]\n",
    "    ny, nm, nd = [int(x) - y for x, y in zip(date.split(\"-\"), [y, m, d])]\n",
    "    return pd.to_datetime(f\"{ny}-{nm}-{nd}\")"
   ]
  },
  {
   "cell_type": "code",
   "execution_count": 4,
   "metadata": {},
   "outputs": [],
   "source": [
    "def get_delta_price(hist, period=3):\n",
    "    date = hist.index[-3]\n",
    "    date = sub_year(date, period)\n",
    "    old = hist.iloc[list(hist.index).index(date)]\n",
    "    current = hist.iloc[-1]\n",
    "    return current[\"Close\"]/old[\"Close\"]"
   ]
  },
  {
   "cell_type": "code",
   "execution_count": 5,
   "metadata": {},
   "outputs": [],
   "source": [
    "SEED_MONEY = 1178\n",
    "N = 10\n",
    "INCLUDE_LEVERAGED = False"
   ]
  },
  {
   "cell_type": "code",
   "execution_count": 6,
   "metadata": {},
   "outputs": [],
   "source": [
    "link = generate_link(INCLUDE_LEVERAGED)"
   ]
  },
  {
   "cell_type": "code",
   "execution_count": 7,
   "metadata": {},
   "outputs": [],
   "source": [
    "rank = pd.read_html(link)[0]"
   ]
  },
  {
   "cell_type": "code",
   "execution_count": 8,
   "metadata": {},
   "outputs": [],
   "source": [
    "top_N = rank.iloc[:N]"
   ]
  },
  {
   "cell_type": "code",
   "execution_count": 11,
   "metadata": {},
   "outputs": [
    {
     "name": "stdout",
     "output_type": "stream",
     "text": [
      "Timestamp('2017-05-12 00:00:00') is not in list\n",
      "no data for ARKG\n"
     ]
    }
   ],
   "source": [
    "total_volume = top_N[\"Avg Volume\"].sum()\n",
    "weights = []\n",
    "nodata = []\n",
    "for i in range(len(top_N.index)):\n",
    "    df = top_N.iloc[i]\n",
    "    ticker = yf.Ticker(df[\"Symbol\"])\n",
    "    hist = ticker.history(period=\"max\")\n",
    "    try:\n",
    "        dm = get_delta_price(hist)\n",
    "    except Exception as e:\n",
    "        print(e)\n",
    "        print(f\"no data for {df['Symbol']}\")\n",
    "        nodata.append(df['Symbol'])\n",
    "        continue\n",
    "    weights.append((dm * df[\"Avg Volume\"])/total_volume)\n",
    "for l in nodata:\n",
    "    top_N = top_N.loc[top_N[\"Symbol\"] != l]"
   ]
  },
  {
   "cell_type": "code",
   "execution_count": 12,
   "metadata": {},
   "outputs": [],
   "source": [
    "top_N[\"weight(%)\"] = weights / sum(weights) * 100\n",
    "top_N[\"money\"] = weights / sum(weights) * SEED_MONEY"
   ]
  },
  {
   "cell_type": "code",
   "execution_count": 13,
   "metadata": {},
   "outputs": [
    {
     "data": {
      "text/html": [
       "<div>\n",
       "<style scoped>\n",
       "    .dataframe tbody tr th:only-of-type {\n",
       "        vertical-align: middle;\n",
       "    }\n",
       "\n",
       "    .dataframe tbody tr th {\n",
       "        vertical-align: top;\n",
       "    }\n",
       "\n",
       "    .dataframe thead th {\n",
       "        text-align: right;\n",
       "    }\n",
       "</style>\n",
       "<table border=\"1\" class=\"dataframe\">\n",
       "  <thead>\n",
       "    <tr style=\"text-align: right;\">\n",
       "      <th></th>\n",
       "      <th>Symbol</th>\n",
       "      <th>Name</th>\n",
       "      <th>3-Year Return</th>\n",
       "      <th>AUM</th>\n",
       "      <th>Avg Volume</th>\n",
       "      <th>weight(%)</th>\n",
       "      <th>money</th>\n",
       "    </tr>\n",
       "  </thead>\n",
       "  <tbody>\n",
       "    <tr>\n",
       "      <th>0</th>\n",
       "      <td>ARKW</td>\n",
       "      <td>ARK Web x.0 ETF</td>\n",
       "      <td>141.21%</td>\n",
       "      <td>$790,538.18</td>\n",
       "      <td>290517</td>\n",
       "      <td>14.624857</td>\n",
       "      <td>172.280817</td>\n",
       "    </tr>\n",
       "    <tr>\n",
       "      <th>2</th>\n",
       "      <td>PALL</td>\n",
       "      <td>Aberdeen Standard Physical Palladium Shares ETF</td>\n",
       "      <td>121.33%</td>\n",
       "      <td>$236,434.51</td>\n",
       "      <td>59673</td>\n",
       "      <td>2.681043</td>\n",
       "      <td>31.582689</td>\n",
       "    </tr>\n",
       "    <tr>\n",
       "      <th>3</th>\n",
       "      <td>ARKK</td>\n",
       "      <td>ARK Innovation ETF</td>\n",
       "      <td>112.94%</td>\n",
       "      <td>$3,098,650.19</td>\n",
       "      <td>831070</td>\n",
       "      <td>36.576901</td>\n",
       "      <td>430.875888</td>\n",
       "    </tr>\n",
       "    <tr>\n",
       "      <th>4</th>\n",
       "      <td>PTH</td>\n",
       "      <td>Invesco DWA Healthcare Momentum ETF</td>\n",
       "      <td>101.28%</td>\n",
       "      <td>$329,576.55</td>\n",
       "      <td>44070</td>\n",
       "      <td>1.756937</td>\n",
       "      <td>20.696721</td>\n",
       "    </tr>\n",
       "    <tr>\n",
       "      <th>5</th>\n",
       "      <td>PSJ</td>\n",
       "      <td>Invesco Dynamic Software ETF</td>\n",
       "      <td>87.96%</td>\n",
       "      <td>$413,864.32</td>\n",
       "      <td>55959</td>\n",
       "      <td>2.100524</td>\n",
       "      <td>24.744178</td>\n",
       "    </tr>\n",
       "    <tr>\n",
       "      <th>6</th>\n",
       "      <td>IGV</td>\n",
       "      <td>iShares Expanded Tech-Software Sector ET</td>\n",
       "      <td>85.64%</td>\n",
       "      <td>$3,937,984.82</td>\n",
       "      <td>986479</td>\n",
       "      <td>36.668488</td>\n",
       "      <td>431.954784</td>\n",
       "    </tr>\n",
       "    <tr>\n",
       "      <th>7</th>\n",
       "      <td>IBUY</td>\n",
       "      <td>Amplify Online Retail ETF</td>\n",
       "      <td>80.24%</td>\n",
       "      <td>$317,971.38</td>\n",
       "      <td>82149</td>\n",
       "      <td>2.942792</td>\n",
       "      <td>34.666096</td>\n",
       "    </tr>\n",
       "    <tr>\n",
       "      <th>8</th>\n",
       "      <td>PTF</td>\n",
       "      <td>Invesco DWA Technology Momentum ETF</td>\n",
       "      <td>80.13%</td>\n",
       "      <td>$183,044.42</td>\n",
       "      <td>44484</td>\n",
       "      <td>1.608155</td>\n",
       "      <td>18.944065</td>\n",
       "    </tr>\n",
       "    <tr>\n",
       "      <th>9</th>\n",
       "      <td>BBC</td>\n",
       "      <td>Virtus LifeSci Biotech Clinical Trials ETF</td>\n",
       "      <td>78.68%</td>\n",
       "      <td>$37,321.18</td>\n",
       "      <td>29656</td>\n",
       "      <td>1.040302</td>\n",
       "      <td>12.254762</td>\n",
       "    </tr>\n",
       "  </tbody>\n",
       "</table>\n",
       "</div>"
      ],
      "text/plain": [
       "  Symbol                                             Name 3-Year Return  \\\n",
       "0   ARKW                                  ARK Web x.0 ETF       141.21%   \n",
       "2   PALL  Aberdeen Standard Physical Palladium Shares ETF       121.33%   \n",
       "3   ARKK                               ARK Innovation ETF       112.94%   \n",
       "4    PTH              Invesco DWA Healthcare Momentum ETF       101.28%   \n",
       "5    PSJ                     Invesco Dynamic Software ETF        87.96%   \n",
       "6    IGV         iShares Expanded Tech-Software Sector ET        85.64%   \n",
       "7   IBUY                        Amplify Online Retail ETF        80.24%   \n",
       "8    PTF              Invesco DWA Technology Momentum ETF        80.13%   \n",
       "9    BBC       Virtus LifeSci Biotech Clinical Trials ETF        78.68%   \n",
       "\n",
       "             AUM  Avg Volume  weight(%)       money  \n",
       "0    $790,538.18      290517  14.624857  172.280817  \n",
       "2    $236,434.51       59673   2.681043   31.582689  \n",
       "3  $3,098,650.19      831070  36.576901  430.875888  \n",
       "4    $329,576.55       44070   1.756937   20.696721  \n",
       "5    $413,864.32       55959   2.100524   24.744178  \n",
       "6  $3,937,984.82      986479  36.668488  431.954784  \n",
       "7    $317,971.38       82149   2.942792   34.666096  \n",
       "8    $183,044.42       44484   1.608155   18.944065  \n",
       "9     $37,321.18       29656   1.040302   12.254762  "
      ]
     },
     "execution_count": 13,
     "metadata": {},
     "output_type": "execute_result"
    }
   ],
   "source": [
    "top_N"
   ]
  }
 ],
 "metadata": {
  "kernelspec": {
   "display_name": "Python 3",
   "language": "python",
   "name": "python3"
  },
  "language_info": {
   "codemirror_mode": {
    "name": "ipython",
    "version": 3
   },
   "file_extension": ".py",
   "mimetype": "text/x-python",
   "name": "python",
   "nbconvert_exporter": "python",
   "pygments_lexer": "ipython3",
   "version": "3.7.6"
  }
 },
 "nbformat": 4,
 "nbformat_minor": 4
}
