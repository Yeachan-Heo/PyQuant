{
 "cells": [
  {
   "cell_type": "markdown",
   "metadata": {},
   "source": [
    "# ETF Momentum Stratagies\n",
    "## Paper link\n",
    "https://papers.ssrn.com/sol3/papers.cfm?abstract_id=3468556\n",
    "## summary\n",
    "investing in etf, long-term (2~4 years) momentum is efficient and robust.",
    "monthly rebalancing"
   ]
  },
  {
   "cell_type": "code",
   "execution_count": 1,
   "metadata": {},
   "outputs": [],
   "source": [
    "import yfinance as yf\n",
    "import datetime\n",
    "import pandas as pd"
   ]
  },
  {
   "cell_type": "code",
   "execution_count": 2,
   "metadata": {},
   "outputs": [],
   "source": [
    "def generate_link(include_leveraged=False):\n",
    "    link = f\"https://etfdb.com/compare/highest-3-year-returns/\"\n",
    "    if not include_leveraged:\n",
    "        link = link + \"no-leveraged/\"\n",
    "    return link"
   ]
  },
  {
   "cell_type": "code",
   "execution_count": 3,
   "metadata": {},
   "outputs": [],
   "source": [
    "def sub_year(date, y=0):\n",
    "    m, d = 0, 0\n",
    "    date = str(date)[:10]\n",
    "    ny, nm, nd = [int(x) - y for x, y in zip(date.split(\"-\"), [y, m, d])]\n",
    "    return pd.to_datetime(f\"{ny}-{nm}-{nd}\")"
   ]
  },
  {
   "cell_type": "code",
   "execution_count": 4,
   "metadata": {},
   "outputs": [],
   "source": [
    "def get_delta_price(hist, period=3):\n",
    "    date = hist.index[-1]\n",
    "    date = sub_year(date, period)\n",
    "    old = hist.iloc[list(hist.index).index(date)]\n",
    "    current = hist.iloc[-1]\n",
    "    return current[\"Close\"]/old[\"Close\"]"
   ]
  },
  {
   "cell_type": "code",
   "execution_count": 5,
   "metadata": {},
   "outputs": [],
   "source": [
    "SEED_MONEY = 1178\n",
    "N = 10\n",
    "INCLUDE_LEVERAGED = False"
   ]
  },
  {
   "cell_type": "code",
   "execution_count": 6,
   "metadata": {},
   "outputs": [],
   "source": [
    "link = generate_link(INCLUDE_LEVERAGED)"
   ]
  },
  {
   "cell_type": "code",
   "execution_count": 7,
   "metadata": {},
   "outputs": [],
   "source": [
    "rank = pd.read_html(link)[0]"
   ]
  },
  {
   "cell_type": "code",
   "execution_count": 8,
   "metadata": {},
   "outputs": [],
   "source": [
    "top_N = rank.iloc[:N]"
   ]
  },
  {
   "cell_type": "code",
   "execution_count": 9,
   "metadata": {},
   "outputs": [
    {
     "name": "stdout",
     "output_type": "stream",
     "text": [
      "no data for ARKG\n"
     ]
    }
   ],
   "source": [
    "total_volume = top_N[\"Avg Volume\"].sum()\n",
    "weights = []\n",
    "for i in range(len(top_N.index)):\n",
    "    df = top_N.iloc[i]\n",
    "    ticker = yf.Ticker(df[\"Symbol\"])\n",
    "    hist = ticker.history(period=\"max\")\n",
    "    try:\n",
    "        dm = get_delta_price(hist)\n",
    "    except Exception as e:\n",
    "        print(f\"no data for {df['Symbol']}\")\n",
    "        weights.append(0)\n",
    "        continue\n",
    "    weights.append((dm * df[\"Avg Volume\"])/total_volume)"
   ]
  },
  {
   "cell_type": "code",
   "execution_count": 10,
   "metadata": {},
   "outputs": [
    {
     "name": "stderr",
     "output_type": "stream",
     "text": [
      "/Users/ych/anaconda3/lib/python3.7/site-packages/ipykernel_launcher.py:1: SettingWithCopyWarning: \n",
      "A value is trying to be set on a copy of a slice from a DataFrame.\n",
      "Try using .loc[row_indexer,col_indexer] = value instead\n",
      "\n",
      "See the caveats in the documentation: https://pandas.pydata.org/pandas-docs/stable/user_guide/indexing.html#returning-a-view-versus-a-copy\n",
      "  \"\"\"Entry point for launching an IPython kernel.\n",
      "/Users/ych/anaconda3/lib/python3.7/site-packages/ipykernel_launcher.py:2: SettingWithCopyWarning: \n",
      "A value is trying to be set on a copy of a slice from a DataFrame.\n",
      "Try using .loc[row_indexer,col_indexer] = value instead\n",
      "\n",
      "See the caveats in the documentation: https://pandas.pydata.org/pandas-docs/stable/user_guide/indexing.html#returning-a-view-versus-a-copy\n",
      "  \n"
     ]
    }
   ],
   "source": [
    "top_N[\"weight(%)\"] = weights / sum(weights) * 100\n",
    "top_N[\"money\"] = weights / sum(weights) * SEED_MONEY"
   ]
  },
  {
   "cell_type": "code",
   "execution_count": 11,
   "metadata": {},
   "outputs": [
    {
     "data": {
      "text/html": [
       "<div>\n",
       "<style scoped>\n",
       "    .dataframe tbody tr th:only-of-type {\n",
       "        vertical-align: middle;\n",
       "    }\n",
       "\n",
       "    .dataframe tbody tr th {\n",
       "        vertical-align: top;\n",
       "    }\n",
       "\n",
       "    .dataframe thead th {\n",
       "        text-align: right;\n",
       "    }\n",
       "</style>\n",
       "<table border=\"1\" class=\"dataframe\">\n",
       "  <thead>\n",
       "    <tr style=\"text-align: right;\">\n",
       "      <th></th>\n",
       "      <th>Symbol</th>\n",
       "      <th>Name</th>\n",
       "      <th>3-Year Return</th>\n",
       "      <th>AUM</th>\n",
       "      <th>Avg Volume</th>\n",
       "      <th>weight(%)</th>\n",
       "      <th>money</th>\n",
       "    </tr>\n",
       "  </thead>\n",
       "  <tbody>\n",
       "    <tr>\n",
       "      <th>0</th>\n",
       "      <td>ARKW</td>\n",
       "      <td>ARK Web x.0 ETF</td>\n",
       "      <td>141.14%</td>\n",
       "      <td>$684,006.96</td>\n",
       "      <td>279297</td>\n",
       "      <td>7.544551</td>\n",
       "      <td>88.874807</td>\n",
       "    </tr>\n",
       "    <tr>\n",
       "      <th>1</th>\n",
       "      <td>PALL</td>\n",
       "      <td>Aberdeen Standard Physical Palladium Shares ETF</td>\n",
       "      <td>122.78%</td>\n",
       "      <td>$249,320.85</td>\n",
       "      <td>62371</td>\n",
       "      <td>1.501091</td>\n",
       "      <td>17.682851</td>\n",
       "    </tr>\n",
       "    <tr>\n",
       "      <th>2</th>\n",
       "      <td>ARKK</td>\n",
       "      <td>ARK Innovation ETF</td>\n",
       "      <td>118.01%</td>\n",
       "      <td>$2,899,854.77</td>\n",
       "      <td>803417</td>\n",
       "      <td>19.767624</td>\n",
       "      <td>232.862609</td>\n",
       "    </tr>\n",
       "    <tr>\n",
       "      <th>3</th>\n",
       "      <td>ARKG</td>\n",
       "      <td>ARK Genomic Revolution Multi-Sector ETF</td>\n",
       "      <td>117.94%</td>\n",
       "      <td>$790,562.56</td>\n",
       "      <td>313519</td>\n",
       "      <td>0.000000</td>\n",
       "      <td>0.000000</td>\n",
       "    </tr>\n",
       "    <tr>\n",
       "      <th>4</th>\n",
       "      <td>PTH</td>\n",
       "      <td>Invesco DWA Healthcare Momentum ETF</td>\n",
       "      <td>89.20%</td>\n",
       "      <td>$271,880.73</td>\n",
       "      <td>40848</td>\n",
       "      <td>0.846175</td>\n",
       "      <td>9.967940</td>\n",
       "    </tr>\n",
       "    <tr>\n",
       "      <th>5</th>\n",
       "      <td>PSJ</td>\n",
       "      <td>Invesco Dynamic Software ETF</td>\n",
       "      <td>87.79%</td>\n",
       "      <td>$398,428.02</td>\n",
       "      <td>54886</td>\n",
       "      <td>1.123939</td>\n",
       "      <td>13.240000</td>\n",
       "    </tr>\n",
       "    <tr>\n",
       "      <th>6</th>\n",
       "      <td>IGV</td>\n",
       "      <td>iShares Expanded Tech-Software Sector ET</td>\n",
       "      <td>85.24%</td>\n",
       "      <td>$3,724,105.30</td>\n",
       "      <td>933029</td>\n",
       "      <td>18.809592</td>\n",
       "      <td>221.576999</td>\n",
       "    </tr>\n",
       "    <tr>\n",
       "      <th>7</th>\n",
       "      <td>VGT</td>\n",
       "      <td>Vanguard Information Technology ETF</td>\n",
       "      <td>78.63%</td>\n",
       "      <td>$26,191,590.51</td>\n",
       "      <td>1361321</td>\n",
       "      <td>26.556243</td>\n",
       "      <td>312.832538</td>\n",
       "    </tr>\n",
       "    <tr>\n",
       "      <th>8</th>\n",
       "      <td>IBUY</td>\n",
       "      <td>Amplify Online Retail ETF</td>\n",
       "      <td>74.58%</td>\n",
       "      <td>$277,280.85</td>\n",
       "      <td>61660</td>\n",
       "      <td>1.164427</td>\n",
       "      <td>13.716951</td>\n",
       "    </tr>\n",
       "    <tr>\n",
       "      <th>9</th>\n",
       "      <td>SOXX</td>\n",
       "      <td>iShares PHLX Semiconductor ETF</td>\n",
       "      <td>74.54%</td>\n",
       "      <td>$2,424,360.42</td>\n",
       "      <td>1189446</td>\n",
       "      <td>22.686359</td>\n",
       "      <td>267.245304</td>\n",
       "    </tr>\n",
       "  </tbody>\n",
       "</table>\n",
       "</div>"
      ],
      "text/plain": [
       "  Symbol                                             Name 3-Year Return  \\\n",
       "0   ARKW                                  ARK Web x.0 ETF       141.14%   \n",
       "1   PALL  Aberdeen Standard Physical Palladium Shares ETF       122.78%   \n",
       "2   ARKK                               ARK Innovation ETF       118.01%   \n",
       "3   ARKG          ARK Genomic Revolution Multi-Sector ETF       117.94%   \n",
       "4    PTH              Invesco DWA Healthcare Momentum ETF        89.20%   \n",
       "5    PSJ                     Invesco Dynamic Software ETF        87.79%   \n",
       "6    IGV         iShares Expanded Tech-Software Sector ET        85.24%   \n",
       "7    VGT              Vanguard Information Technology ETF        78.63%   \n",
       "8   IBUY                        Amplify Online Retail ETF        74.58%   \n",
       "9   SOXX                   iShares PHLX Semiconductor ETF        74.54%   \n",
       "\n",
       "              AUM  Avg Volume  weight(%)       money  \n",
       "0     $684,006.96      279297   7.544551   88.874807  \n",
       "1     $249,320.85       62371   1.501091   17.682851  \n",
       "2   $2,899,854.77      803417  19.767624  232.862609  \n",
       "3     $790,562.56      313519   0.000000    0.000000  \n",
       "4     $271,880.73       40848   0.846175    9.967940  \n",
       "5     $398,428.02       54886   1.123939   13.240000  \n",
       "6   $3,724,105.30      933029  18.809592  221.576999  \n",
       "7  $26,191,590.51     1361321  26.556243  312.832538  \n",
       "8     $277,280.85       61660   1.164427   13.716951  \n",
       "9   $2,424,360.42     1189446  22.686359  267.245304  "
      ]
     },
     "execution_count": 11,
     "metadata": {},
     "output_type": "execute_result"
    }
   ],
   "source": [
    "top_N"
   ]
  }
 ],
 "metadata": {
  "kernelspec": {
   "display_name": "Python 3",
   "language": "python",
   "name": "python3"
  },
  "language_info": {
   "codemirror_mode": {
    "name": "ipython",
    "version": 3
   },
   "file_extension": ".py",
   "mimetype": "text/x-python",
   "name": "python",
   "nbconvert_exporter": "python",
   "pygments_lexer": "ipython3",
   "version": "3.7.6"
  }
 },
 "nbformat": 4,
 "nbformat_minor": 4
}
