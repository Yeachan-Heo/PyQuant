{
 "cells": [
  {
   "cell_type": "markdown",
   "metadata": {},
   "source": [
    "# ETF Momentum Stratagies\n",
    "## Paper link\n",
    "https://papers.ssrn.com/sol3/papers.cfm?abstract_id=3468556\n",
    "## summary\n",
    "investing in etf, long-term (2~4 years) momentum is efficient and robust.",
    "monthly rebalancing"
   ]
  },
  {
   "cell_type": "code",
   "execution_count": 1,
   "metadata": {},
   "outputs": [],
   "source": [
    "import yfinance as yf\n",
    "import datetime\n",
    "import pandas as pd"
   ]
  },
  {
   "cell_type": "code",
   "execution_count": 2,
   "metadata": {},
   "outputs": [],
   "source": [
    "def generate_link(include_leveraged=False):\n",
    "    link = f\"https://etfdb.com/compare/highest-3-year-returns/\"\n",
    "    if not include_leveraged:\n",
    "        link = link + \"no-leveraged/\"\n",
    "    return link"
   ]
  },
  {
   "cell_type": "code",
   "execution_count": 3,
   "metadata": {},
   "outputs": [],
   "source": [
    "def sub_year(date, y=0):\n",
    "    m, d = 0, 0\n",
    "    date = str(date)[:10]\n",
    "    ny, nm, nd = [int(x) - y for x, y in zip(date.split(\"-\"), [y, m, d])]\n",
    "    return pd.to_datetime(f\"{ny}-{nm}-{nd}\")"
   ]
  },
  {
   "cell_type": "code",
   "execution_count": 4,
   "metadata": {},
   "outputs": [],
   "source": [
    "def get_delta_price(hist, period=3):\n",
    "    date = hist.index[-1]\n",
    "    date = sub_year(date, period)\n",
    "    old = hist.iloc[list(hist.index).index(date)]\n",
    "    current = hist.iloc[-1]\n",
    "    return current[\"Close\"]/old[\"Close\"]"
   ]
  },
  {
   "cell_type": "code",
   "execution_count": 5,
   "metadata": {},
   "outputs": [],
   "source": [
    "SEED_MONEY = 1178\n",
    "N = 5\n",
    "INCLUDE_LEVERAGED = False"
   ]
  },
  {
   "cell_type": "code",
   "execution_count": 6,
   "metadata": {},
   "outputs": [],
   "source": [
    "link = generate_link(INCLUDE_LEVERAGED)"
   ]
  },
  {
   "cell_type": "code",
   "execution_count": 7,
   "metadata": {},
   "outputs": [],
   "source": [
    "rank = pd.read_html(link)[0]"
   ]
  },
  {
   "cell_type": "code",
   "execution_count": 8,
   "metadata": {},
   "outputs": [],
   "source": [
    "top_N = rank.iloc[:N]"
   ]
  },
  {
   "cell_type": "code",
   "execution_count": 9,
   "metadata": {},
   "outputs": [
    {
     "name": "stdout",
     "output_type": "stream",
     "text": [
      "no data for ARKG\n"
     ]
    }
   ],
   "source": [
    "total_volume = top_N[\"Avg Volume\"].sum()\n",
    "weights = []\n",
    "for i in range(len(top_N.index)):\n",
    "    df = top_N.iloc[i]\n",
    "    ticker = yf.Ticker(df[\"Symbol\"])\n",
    "    hist = ticker.history(period=\"max\")\n",
    "    try:\n",
    "        dm = get_delta_price(hist)\n",
    "    except Exception as e:\n",
    "        print(f\"no data for {df['Symbol']}\")\n",
    "        weights.append(0)\n",
    "        continue\n",
    "    weights.append((dm * df[\"Avg Volume\"])/total_volume)"
   ]
  },
  {
   "cell_type": "code",
   "execution_count": 10,
   "metadata": {},
   "outputs": [
    {
     "name": "stderr",
     "output_type": "stream",
     "text": [
      "/Users/ych/anaconda3/lib/python3.7/site-packages/ipykernel_launcher.py:1: SettingWithCopyWarning: \n",
      "A value is trying to be set on a copy of a slice from a DataFrame.\n",
      "Try using .loc[row_indexer,col_indexer] = value instead\n",
      "\n",
      "See the caveats in the documentation: https://pandas.pydata.org/pandas-docs/stable/user_guide/indexing.html#returning-a-view-versus-a-copy\n",
      "  \"\"\"Entry point for launching an IPython kernel.\n",
      "/Users/ych/anaconda3/lib/python3.7/site-packages/ipykernel_launcher.py:2: SettingWithCopyWarning: \n",
      "A value is trying to be set on a copy of a slice from a DataFrame.\n",
      "Try using .loc[row_indexer,col_indexer] = value instead\n",
      "\n",
      "See the caveats in the documentation: https://pandas.pydata.org/pandas-docs/stable/user_guide/indexing.html#returning-a-view-versus-a-copy\n",
      "  \n"
     ]
    }
   ],
   "source": [
    "top_N[\"weight(%)\"] = weights / sum(weights) * 100\n",
    "top_N[\"money\"] = weights / sum(weights) * SEED_MONEY"
   ]
  },
  {
   "cell_type": "code",
   "execution_count": 11,
   "metadata": {},
   "outputs": [
    {
     "data": {
      "text/html": [
       "<div>\n",
       "<style scoped>\n",
       "    .dataframe tbody tr th:only-of-type {\n",
       "        vertical-align: middle;\n",
       "    }\n",
       "\n",
       "    .dataframe tbody tr th {\n",
       "        vertical-align: top;\n",
       "    }\n",
       "\n",
       "    .dataframe thead th {\n",
       "        text-align: right;\n",
       "    }\n",
       "</style>\n",
       "<table border=\"1\" class=\"dataframe\">\n",
       "  <thead>\n",
       "    <tr style=\"text-align: right;\">\n",
       "      <th></th>\n",
       "      <th>Symbol</th>\n",
       "      <th>Name</th>\n",
       "      <th>3-Year Return</th>\n",
       "      <th>AUM</th>\n",
       "      <th>Avg Volume</th>\n",
       "      <th>weight(%)</th>\n",
       "      <th>money</th>\n",
       "    </tr>\n",
       "  </thead>\n",
       "  <tbody>\n",
       "    <tr>\n",
       "      <th>0</th>\n",
       "      <td>ARKW</td>\n",
       "      <td>ARK Web x.0 ETF</td>\n",
       "      <td>153.26%</td>\n",
       "      <td>$710,589.45</td>\n",
       "      <td>279459</td>\n",
       "      <td>25.748805</td>\n",
       "      <td>303.320927</td>\n",
       "    </tr>\n",
       "    <tr>\n",
       "      <th>1</th>\n",
       "      <td>PALL</td>\n",
       "      <td>Aberdeen Standard Physical Palladium Shares ETF</td>\n",
       "      <td>124.62%</td>\n",
       "      <td>$230,647.09</td>\n",
       "      <td>60671</td>\n",
       "      <td>4.771927</td>\n",
       "      <td>56.213298</td>\n",
       "    </tr>\n",
       "    <tr>\n",
       "      <th>2</th>\n",
       "      <td>ARKG</td>\n",
       "      <td>ARK Genomic Revolution Multi-Sector ETF</td>\n",
       "      <td>123.52%</td>\n",
       "      <td>$820,678.99</td>\n",
       "      <td>317965</td>\n",
       "      <td>0.000000</td>\n",
       "      <td>0.000000</td>\n",
       "    </tr>\n",
       "    <tr>\n",
       "      <th>3</th>\n",
       "      <td>ARKK</td>\n",
       "      <td>ARK Innovation ETF</td>\n",
       "      <td>121.85%</td>\n",
       "      <td>$2,980,480.48</td>\n",
       "      <td>809551</td>\n",
       "      <td>66.575908</td>\n",
       "      <td>784.264201</td>\n",
       "    </tr>\n",
       "    <tr>\n",
       "      <th>4</th>\n",
       "      <td>PTH</td>\n",
       "      <td>Invesco DWA Healthcare Momentum ETF</td>\n",
       "      <td>92.25%</td>\n",
       "      <td>$289,155.33</td>\n",
       "      <td>42208</td>\n",
       "      <td>2.903359</td>\n",
       "      <td>34.201574</td>\n",
       "    </tr>\n",
       "  </tbody>\n",
       "</table>\n",
       "</div>"
      ],
      "text/plain": [
       "  Symbol                                             Name 3-Year Return  \\\n",
       "0   ARKW                                  ARK Web x.0 ETF       153.26%   \n",
       "1   PALL  Aberdeen Standard Physical Palladium Shares ETF       124.62%   \n",
       "2   ARKG          ARK Genomic Revolution Multi-Sector ETF       123.52%   \n",
       "3   ARKK                               ARK Innovation ETF       121.85%   \n",
       "4    PTH              Invesco DWA Healthcare Momentum ETF        92.25%   \n",
       "\n",
       "             AUM  Avg Volume  weight(%)       money  \n",
       "0    $710,589.45      279459  25.748805  303.320927  \n",
       "1    $230,647.09       60671   4.771927   56.213298  \n",
       "2    $820,678.99      317965   0.000000    0.000000  \n",
       "3  $2,980,480.48      809551  66.575908  784.264201  \n",
       "4    $289,155.33       42208   2.903359   34.201574  "
      ]
     },
     "execution_count": 11,
     "metadata": {},
     "output_type": "execute_result"
    }
   ],
   "source": [
    "top_N"
   ]
  }
 ],
 "metadata": {
  "kernelspec": {
   "display_name": "Python 3",
   "language": "python",
   "name": "python3"
  },
  "language_info": {
   "codemirror_mode": {
    "name": "ipython",
    "version": 3
   },
   "file_extension": ".py",
   "mimetype": "text/x-python",
   "name": "python",
   "nbconvert_exporter": "python",
   "pygments_lexer": "ipython3",
   "version": "3.7.6"
  }
 },
 "nbformat": 4,
 "nbformat_minor": 4
}
